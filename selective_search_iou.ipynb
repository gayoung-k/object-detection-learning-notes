{
  "nbformat": 4,
  "nbformat_minor": 0,
  "metadata": {
    "colab": {
      "provenance": [],
      "authorship_tag": "ABX9TyNzUVmHRrX/PqFQWZJ5E3ZR",
      "include_colab_link": true
    },
    "kernelspec": {
      "name": "python3",
      "display_name": "Python 3"
    },
    "language_info": {
      "name": "python"
    }
  },
  "cells": [
    {
      "cell_type": "markdown",
      "metadata": {
        "id": "view-in-github",
        "colab_type": "text"
      },
      "source": [
        "<a href=\"https://colab.research.google.com/github/gayoung-k/object-detection-learning-notes/blob/main/selective_search_iou.ipynb\" target=\"_parent\"><img src=\"https://colab.research.google.com/assets/colab-badge.svg\" alt=\"Open In Colab\"/></a>"
      ]
    },
    {
      "cell_type": "markdown",
      "source": [
        "### Deriving region proposal areas for object detection using selective search\n",
        "\n",
        "\n"
      ],
      "metadata": {
        "id": "X0w36DazLQD9"
      }
    },
    {
      "cell_type": "markdown",
      "source": [
        "#### Download selectivesearch and load the image\n",
        "https://github.com/AlpacaTechJP/selectivesearch"
      ],
      "metadata": {
        "id": "icPSeIEXMJ-y"
      }
    },
    {
      "cell_type": "code",
      "source": [
        "!pip install selectivesearch"
      ],
      "metadata": {
        "id": "PaizXBvtMHk1"
      },
      "execution_count": null,
      "outputs": []
    },
    {
      "cell_type": "code",
      "source": [
        "!mkdir -p /content/data\n",
        "!wget -O /content/data/audrey01.jpg https://raw.githubusercontent.com/gayoung-k/object-detection-learning-notes/main/images/audrey01.jpg\n"
      ],
      "metadata": {
        "colab": {
          "base_uri": "https://localhost:8080/"
        },
        "id": "NMy05ZcZQiWL",
        "outputId": "2dd61251-4eff-487a-b394-7b4c5bf4ed08"
      },
      "execution_count": 5,
      "outputs": [
        {
          "output_type": "stream",
          "name": "stdout",
          "text": [
            "--2025-09-03 20:30:15--  https://raw.githubusercontent.com/gayoung-k/object-detection-learning-notes/main/images/audrey01.jpg\n",
            "Resolving raw.githubusercontent.com (raw.githubusercontent.com)... 185.199.111.133, 185.199.108.133, 185.199.110.133, ...\n",
            "Connecting to raw.githubusercontent.com (raw.githubusercontent.com)|185.199.111.133|:443... connected.\n",
            "HTTP request sent, awaiting response... 200 OK\n",
            "Length: 30102 (29K) [image/jpeg]\n",
            "Saving to: ‘/content/data/audrey01.jpg’\n",
            "\n",
            "\r          /content/   0%[                    ]       0  --.-KB/s               \r/content/data/audre 100%[===================>]  29.40K  --.-KB/s    in 0.001s  \n",
            "\n",
            "2025-09-03 20:30:15 (21.3 MB/s) - ‘/content/data/audrey01.jpg’ saved [30102/30102]\n",
            "\n"
          ]
        }
      ]
    },
    {
      "cell_type": "code",
      "source": [
        "import selectivesearch\n",
        "import cv2\n",
        "import matplotlib.pyplot as plt\n",
        "import os\n",
        "%matplotlib inline\n",
        "\n",
        "img = cv2.imread('./data/audrey01.jpg')\n",
        "img_rgb = cv2.cvtColor(img, cv2.COLOR_BGR2RGB)\n",
        "print('img shape:', img.shape)\n",
        "\n",
        "plt.figure(figsize=(8, 8))\n",
        "plt.imshow(img_rgb)\n",
        "plt.show()"
      ],
      "metadata": {
        "id": "e5qcr5nPRjWp"
      },
      "execution_count": null,
      "outputs": []
    },
    {
      "cell_type": "code",
      "source": [
        "import selectivesearch\n",
        "\n",
        "# selectivesearch.selective_search() returns the region proposal information of the image\n",
        "_, regions = selectivesearch.selective_search(img_rgb, scale=100, min_size=2000)\n",
        "\n",
        "print(type(regions), len(regions))\n"
      ],
      "metadata": {
        "id": "os67CqcMRpXR"
      },
      "execution_count": null,
      "outputs": []
    },
    {
      "cell_type": "markdown",
      "source": [
        "#### Viewing the information of the returned Region Proposals\n",
        "\n",
        "The returned `regions` variable is of type list, and each element inside is a dictionary.\n",
        "\n",
        "Meaning of each dictionary key:\n",
        "\n",
        "* **rect**: contains the starting x, y coordinates along with width and height values, representing the bounding box of a detected object candidate.\n",
        "* **size**: the size of the object segment selected by selective search.\n",
        "* **labels**: unique IDs of the objects located inside the bounding box defined by `rect`.\n",
        "* As you go further down, the bounding boxes have larger width and height values, and the probability increases that multiple objects may exist within a single bounding box.\n"
      ],
      "metadata": {
        "id": "xO4E0AMfRuVC"
      }
    },
    {
      "cell_type": "code",
      "source": [
        "# Print only the rect information\n",
        "# cand_rects = [cand['rect'] for cand in regions]\n",
        "# print(cand_rects)\n",
        "cand_rects = []\n",
        "for item in regions:\n",
        "    cand_rects.append(item['rect'])\n",
        "\n",
        "print(cand_rects)\n"
      ],
      "metadata": {
        "id": "p306XZa6R0sO"
      },
      "execution_count": null,
      "outputs": []
    },
    {
      "cell_type": "code",
      "source": [
        "# Visualization using OpenCV's rectangle()\n",
        "# rectangle() draws a box on the original image by taking the image,\n",
        "# top-left coordinates, bottom-right coordinates, box color, thickness, etc. as input arguments.\n",
        "\n",
        "green_rgb = (125, 255, 51)\n",
        "img_rgb_copy = img_rgb.copy()\n",
        "for rect in cand_rects:\n",
        "\n",
        "    left = rect[0]\n",
        "    top = rect[1]\n",
        "    # rect[2] and rect[3] are width and height, so add them to the top-left coordinates\n",
        "    # to obtain the bottom-right coordinates.\n",
        "    right = left + rect[2]\n",
        "    bottom = top + rect[3]\n",
        "\n",
        "    img_rgb_copy = cv2.rectangle(img_rgb_copy, (left, top), (right, bottom), color=green_rgb, thickness=2)\n",
        "\n",
        "plt.figure(figsize=(8, 8))\n",
        "plt.imshow(img_rgb_copy)\n",
        "plt.show()\n"
      ],
      "metadata": {
        "id": "e15F5T1hR5o5"
      },
      "execution_count": null,
      "outputs": []
    },
    {
      "cell_type": "markdown",
      "source": [
        "#### Extract only candidates with large bounding box sizes\n"
      ],
      "metadata": {
        "id": "ttFVfBCAR9rG"
      }
    },
    {
      "cell_type": "code",
      "source": [
        "cand_rects = [cand['rect'] for cand in regions if cand['size'] > 10000]\n",
        "\n",
        "green_rgb = (125, 255, 51)\n",
        "img_rgb_copy = img_rgb.copy()\n",
        "for rect in cand_rects:\n",
        "\n",
        "    left = rect[0]\n",
        "    top = rect[1]\n",
        "    # rect[2] and rect[3] are width and height, so add them to the top-left coordinates\n",
        "    # to obtain the bottom-right coordinates.\n",
        "    right = left + rect[2]\n",
        "    bottom = top + rect[3]\n",
        "\n",
        "    img_rgb_copy = cv2.rectangle(img_rgb_copy, (left, top), (right, bottom), color=green_rgb, thickness=2)\n",
        "\n",
        "plt.figure(figsize=(8, 8))\n",
        "plt.imshow(img_rgb_copy)\n",
        "plt.show()\n"
      ],
      "metadata": {
        "id": "v9_EHFNOSCHn"
      },
      "execution_count": null,
      "outputs": []
    },
    {
      "cell_type": "markdown",
      "source": [
        "### Calculate IOU"
      ],
      "metadata": {
        "id": "RsuwDKaASFnt"
      }
    },
    {
      "cell_type": "markdown",
      "source": [
        "#### Create a function that takes candidate boxes and ground truth boxes as input arguments and calculates the IOU\n"
      ],
      "metadata": {
        "id": "3q9AV1jNSK2P"
      }
    },
    {
      "cell_type": "code",
      "source": [
        "import numpy as np\n",
        "\n",
        "def compute_iou(cand_box, gt_box):\n",
        "\n",
        "    # Calculate intersection areas\n",
        "    x1 = np.maximum(cand_box[0], gt_box[0])\n",
        "    y1 = np.maximum(cand_box[1], gt_box[1])\n",
        "    x2 = np.minimum(cand_box[2], gt_box[2])\n",
        "    y2 = np.minimum(cand_box[3], gt_box[3])\n",
        "\n",
        "    intersection = np.maximum(x2 - x1, 0) * np.maximum(y2 - y1, 0)\n",
        "\n",
        "    cand_box_area = (cand_box[2] - cand_box[0]) * (cand_box[3] - cand_box[1])\n",
        "    gt_box_area = (gt_box[2] - gt_box[0]) * (gt_box[3] - gt_box[1])\n",
        "    union = cand_box_area + gt_box_area - intersection\n",
        "\n",
        "    iou = intersection / union\n",
        "    return iou"
      ],
      "metadata": {
        "id": "arQUbfqRSH05"
      },
      "execution_count": null,
      "outputs": []
    },
    {
      "cell_type": "code",
      "source": [
        "import cv2\n",
        "import matplotlib.pyplot as plt\n",
        "%matplotlib inline\n",
        "\n",
        "# Assume that the coordinates of the actual box (Ground Truth) are as follows.\n",
        "gt_box = [60, 15, 320, 420]\n",
        "\n",
        "\n",
        "img = cv2.imread('./data/audrey01.jpg')\n",
        "img_rgb = cv2.cvtColor(img, cv2.COLOR_BGR2RGB)\n",
        "\n",
        "red = (255, 0 , 0)\n",
        "img_rgb = cv2.rectangle(img_rgb, (gt_box[0], gt_box[1]), (gt_box[2], gt_box[3]), color=red, thickness=2)\n",
        "\n",
        "plt.figure(figsize=(8, 8))\n",
        "plt.imshow(img_rgb)\n",
        "plt.show()"
      ],
      "metadata": {
        "id": "8Dwz0jQZSQJF"
      },
      "execution_count": null,
      "outputs": []
    },
    {
      "cell_type": "code",
      "source": [
        "import selectivesearch\n",
        "\n",
        "# selectivesearch.selective_search() returns the region proposal information of the image\n",
        "img = cv2.imread('./data/audrey01.jpg')\n",
        "img_rgb2 = cv2.cvtColor(img, cv2.COLOR_BGR2RGB)\n",
        "_, regions = selectivesearch.selective_search(img_rgb2, scale=100, min_size=2000)\n",
        "\n",
        "print(type(regions), len(regions))\n"
      ],
      "metadata": {
        "id": "DRATAvrRSYJt"
      },
      "execution_count": null,
      "outputs": []
    },
    {
      "cell_type": "code",
      "source": [
        "[cand['rect'] for cand in regions]"
      ],
      "metadata": {
        "id": "l4dcQ6sSSemF"
      },
      "execution_count": null,
      "outputs": []
    },
    {
      "cell_type": "code",
      "source": [
        "cand_rects = [cand['rect'] for cand in regions]\n",
        "for index, cand_box in enumerate(cand_rects):\n",
        "    cand_box = list(cand_box) # tuple -> list\n",
        "    cand_box[2] += cand_box[0] # cand_box has x, y, w, h\n",
        "    cand_box[3] += cand_box[1]\n",
        "\n",
        "    iou = compute_iou(cand_box, gt_box)\n",
        "    print('index:', index, \"iou:\", iou)"
      ],
      "metadata": {
        "id": "ayjwgZuESgZT"
      },
      "execution_count": null,
      "outputs": []
    },
    {
      "cell_type": "code",
      "source": [
        "cand_rects = [cand['rect'] for cand in regions if cand['size'] > 5000]\n",
        "cand_rects.sort()\n",
        "cand_rects"
      ],
      "metadata": {
        "id": "jxc2oi5rSkMb"
      },
      "execution_count": null,
      "outputs": []
    },
    {
      "cell_type": "code",
      "source": [
        "img = cv2.imread('./data/audrey01.jpg')\n",
        "img_rgb = cv2.cvtColor(img, cv2.COLOR_BGR2RGB)\n",
        "print('img shape:', img.shape)\n",
        "\n",
        "green_rgb = (125, 255, 51)\n",
        "cand_rects = [cand['rect'] for cand in regions if cand['size'] > 3000]\n",
        "gt_box = [60, 15, 320, 420]\n",
        "img_rgb = cv2.rectangle(img_rgb, (gt_box[0], gt_box[1]), (gt_box[2], gt_box[3]), color=red, thickness=2)\n",
        "\n",
        "for index, cand_box in enumerate(cand_rects):\n",
        "\n",
        "    cand_box = list(cand_box)\n",
        "    cand_box[2] += cand_box[0]\n",
        "    cand_box[3] += cand_box[1]\n",
        "\n",
        "    iou = compute_iou(cand_box, gt_box)\n",
        "\n",
        "    if iou > 0.6:\n",
        "        print('index:', index, \"iou:\", iou, 'rectangle:',(cand_box[0], cand_box[1], cand_box[2], cand_box[3]) )\n",
        "        cv2.rectangle(img_rgb, (cand_box[0], cand_box[1]), (cand_box[2], cand_box[3]), color=green_rgb, thickness=1)\n",
        "        text = \"{}: {:.2f}\".format(index, iou)\n",
        "        cv2.putText(img_rgb, text, (cand_box[0]+ 100, cand_box[1]+10), cv2.FONT_HERSHEY_SIMPLEX, 0.4, color=green_rgb, thickness=1)\n",
        "\n",
        "plt.figure(figsize=(12, 12))\n",
        "plt.imshow(img_rgb)\n",
        "plt.show()\n"
      ],
      "metadata": {
        "id": "t95s7zu2SlNR"
      },
      "execution_count": null,
      "outputs": []
    }
  ]
}